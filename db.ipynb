{
 "cells": [
  {
   "cell_type": "code",
   "execution_count": 1,
   "metadata": {},
   "outputs": [],
   "source": [
    "import pymysql\n",
    "import datetime"
   ]
  },
  {
   "cell_type": "code",
   "execution_count": 2,
   "metadata": {},
   "outputs": [],
   "source": [
    "conn = pymysql.connect(\n",
    "    host = \"localhost\",\n",
    "    user = \"vpn_local\",\n",
    "    password = \"mym200226\",\n",
    "    database = \"vpn\",\n",
    "    charset = 'utf8',\n",
    "    cursorclass = pymysql.cursors.DictCursor)"
   ]
  },
  {
   "cell_type": "code",
   "execution_count": 3,
   "metadata": {},
   "outputs": [],
   "source": [
    "cursor = conn.cursor()"
   ]
  },
  {
   "cell_type": "code",
   "execution_count": 36,
   "metadata": {},
   "outputs": [
    {
     "data": {
      "text/plain": [
       "0"
      ]
     },
     "execution_count": 36,
     "metadata": {},
     "output_type": "execute_result"
    }
   ],
   "source": [
    "sql = \"\"\"\n",
    "CREATE TABLE IF NOT EXISTS `demo`(\n",
    "   `id` BIGINT PRIMARY KEY NOT NULL AUTO_INCREMENT,\n",
    "   `url` VARCHAR(1024) NOT NULL,\n",
    "   `content_size` INT(12) NOT NULL,\n",
    "   `file_path` VARCHAR(1024) NOT NULL,\n",
    "   `start_time` TIMESTAMP NOT NULL,\n",
    "   `end_time` TIMESTAMP NOT NULL,\n",
    "   `proxy` VARCHAR(256),\n",
    "   `create_time` TIMESTAMP DEFAULT CURRENT_TIMESTAMP,\n",
    "   `update_time` TIMESTAMP DEFAULT CURRENT_TIMESTAMP\n",
    ")ENGINE=InnoDB DEFAULT CHARSET=utf8;\n",
    "\"\"\"\n",
    "cursor.execute(sql)"
   ]
  },
  {
   "cell_type": "code",
   "execution_count": 37,
   "metadata": {},
   "outputs": [
    {
     "data": {
      "text/plain": [
       "['id',\n",
       " 'url',\n",
       " 'content_size',\n",
       " 'file_path',\n",
       " 'start_time',\n",
       " 'end_time',\n",
       " 'proxy',\n",
       " 'create_time',\n",
       " 'update_time']"
      ]
     },
     "execution_count": 37,
     "metadata": {},
     "output_type": "execute_result"
    }
   ],
   "source": [
    "cursor.execute(\"desc demo\")\n",
    "[x['Field'] for x in cursor.fetchall()]"
   ]
  },
  {
   "cell_type": "code",
   "execution_count": 38,
   "metadata": {},
   "outputs": [
    {
     "data": {
      "text/plain": [
       "1"
      ]
     },
     "execution_count": 38,
     "metadata": {},
     "output_type": "execute_result"
    }
   ],
   "source": [
    "sql = \"\"\"\n",
    "    INSERT INTO demo(url, content_size, file_path, start_time, end_time, proxy) VALUES('demo_url', 128, 'demo_path', '{}', '{}', 'demo_proxy')\n",
    "\"\"\".format('2013-01-12 15:27:43', '2013-01-12 15:27:43')\n",
    "cursor.execute(sql)"
   ]
  },
  {
   "cell_type": "code",
   "execution_count": 4,
   "metadata": {},
   "outputs": [
    {
     "data": {
      "text/plain": [
       "[{'id': 1,\n",
       "  'url': 'demo_url',\n",
       "  'content_size': 128,\n",
       "  'file_path': 'demo_path',\n",
       "  'start_time': datetime.datetime(2013, 1, 12, 15, 27, 43),\n",
       "  'end_time': datetime.datetime(2013, 1, 12, 15, 27, 43),\n",
       "  'proxy': 'demo_proxy',\n",
       "  'create_time': datetime.datetime(2020, 9, 3, 0, 16, 30),\n",
       "  'update_time': datetime.datetime(2020, 9, 3, 0, 16, 30)}]"
      ]
     },
     "execution_count": 4,
     "metadata": {},
     "output_type": "execute_result"
    }
   ],
   "source": [
    "cursor.execute(\"select * from demo\")\n",
    "[x for x in cursor.fetchall()][0:5]"
   ]
  },
  {
   "cell_type": "code",
   "execution_count": 41,
   "metadata": {},
   "outputs": [
    {
     "data": {
      "text/plain": [
       "2"
      ]
     },
     "execution_count": 41,
     "metadata": {},
     "output_type": "execute_result"
    }
   ],
   "source": [
    "cursor.execute(\"select * from demo where url ='demo_url'\")"
   ]
  },
  {
   "cell_type": "code",
   "execution_count": 42,
   "metadata": {},
   "outputs": [
    {
     "data": {
      "text/plain": [
       "0"
      ]
     },
     "execution_count": 42,
     "metadata": {},
     "output_type": "execute_result"
    }
   ],
   "source": [
    "cursor.execute(\"select * from demo where url ='demo_url2'\")"
   ]
  },
  {
   "cell_type": "code",
   "execution_count": null,
   "metadata": {},
   "outputs": [],
   "source": []
  }
 ],
 "metadata": {
  "kernelspec": {
   "display_name": "Python 3",
   "language": "python",
   "name": "python3"
  },
  "language_info": {
   "codemirror_mode": {
    "name": "ipython",
    "version": 3
   },
   "file_extension": ".py",
   "mimetype": "text/x-python",
   "name": "python",
   "nbconvert_exporter": "python",
   "pygments_lexer": "ipython3",
   "version": "3.7.3"
  }
 },
 "nbformat": 4,
 "nbformat_minor": 4
}
